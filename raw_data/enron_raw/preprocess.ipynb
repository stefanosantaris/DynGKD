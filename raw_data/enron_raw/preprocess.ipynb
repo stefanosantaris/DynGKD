{
 "cells": [
  {
   "cell_type": "markdown",
   "metadata": {},
   "source": [
    "# Enron dataset: "
   ]
  },
  {
   "cell_type": "code",
   "execution_count": 1,
   "metadata": {},
   "outputs": [
    {
     "output_type": "stream",
     "name": "stdout",
     "text": [
      "55098b62251497209062421f albert.meyers@enron.com 0\n55098b622514972090624220 andrea.ring@enron.com 1\n55098b622514972090624221 andrew.lewis@enron.com 2\n55098b622514972090624222 andy.zipper@enron.com 3\n55098b622514972090624223 barry.tycholiz@enron.com 4\n55098b622514972090624224 benjamin.rogers@enron.com 5\n55098b622514972090624225 bill.rapp@enron.com 6\n55098b622514972090624226 bill.williams@enron.com 7\n55098b622514972090624227 brad.mckay@enron.com 8\n55098b622514972090624228 brenda.whitehead@enron.com 9\n55098b622514972090624229 cara.semperger@enron.com 10\n55098b62251497209062422a charles.weldon@enron.com 11\n55098b62251497209062422b chris.dorland@enron.com 12\n55098b62251497209062422c chris.germany@enron.com 13\n55098b62251497209062422d clint.dean@enron.com 14\n55098b62251497209062422e cooper.richey@enron.com 15\n55098b62251497209062422f craig.dean@enron.com 16\n55098b622514972090624230 dan.hyvl@enron.com 17\n55098b622514972090624231 dana.davis@enron.com 18\n55098b622514972090624232 danny.mccarty@enron.com 19\n55098b622514972090624233 daren.farmer@enron.com 20\n55098b622514972090624234 darrell.schoolcraft@enron.com 21\n55098b622514972090624235 darron.giron@enron.com 22\n55098b622514972090624236 david.delainey@enron.com 23\n55098b622514972090624237 debra.bailey@enron.com 24\n55098b622514972090624238 debra.perlingiere@enron.com 25\n55098b622514972090624239 diana.scholtes@enron.com 26\n55098b62251497209062423a don.baughman@enron.com 27\n55098b62251497209062423b drew.fossum@enron.com 28\n55098b62251497209062423c dutch.quigley@enron.com 29\n55098b62251497209062423d elizabeth.sager@enron.com 30\n55098b62251497209062423e eric.bass@enron.com 31\n55098b62251497209062423f eric.saibi@enron.com 32\n55098b622514972090624240 errol.mclaughlin@enron.com 33\n55098b622514972090624241 fletcher.sturm@enron.com 34\n55098b622514972090624242 frank.ermis@enron.com 35\n55098b622514972090624243 geir.solberg@enron.com 36\n55098b622514972090624244 geoff.storey@enron.com 37\n55098b622514972090624245 gerald.nemec@enron.com 38\n55098b622514972090624246 greg.whalley@enron.com 39\n55098b622514972090624247 gretel.smith@enron.com 40\n55098b622514972090624248 holden.salisbury@enron.com 41\n55098b622514972090624249 hunter.shively@enron.com 42\n55098b62251497209062424a j.harris@enron.com 43\n55098b62251497209062424b james.derrick@enron.com 44\n55098b62251497209062424c james.steffes@enron.com 45\n55098b62251497209062424d jane.tholt@enron.com 46\n55098b62251497209062424e jason.williams@enron.com 47\n55098b62251497209062424f jason.wolfe@enron.com 48\n55098b622514972090624250 jay.reitmeyer@enron.com 49\n55098b622514972090624251 jeff.dasovich@enron.com 50\n55098b622514972090624252 jeff.king@enron.com 51\n55098b622514972090624253 jeff.skilling@enron.com 52\n55098b622514972090624254 jeffrey.hodge@enron.com 53\n55098b622514972090624255 jeffrey.shankman@enron.com 54\n55098b622514972090624256 jim.schwieger@enron.com 55\n55098b622514972090624257 joannie.williamson@enron.com 56\n55098b622514972090624258 joe.parks@enron.com 57\n55098b622514972090624259 joe.quenet@enron.com 58\n55098b62251497209062425a joe.stepenovitch@enron.com 59\n55098b62251497209062425b john.forney@enron.com 60\n55098b62251497209062425c john.griffith@enron.com 61\n55098b62251497209062425d john.lavorato@enron.com 62\n55098b62251497209062425e john.zufferli@enron.com 63\n55098b62251497209062425f jonathan.mckay@enron.com 64\n55098b622514972090624260 juan.hernandez@enron.com 65\n55098b622514972090624261 judy.hernandez@enron.com 66\n55098b622514972090624262 judy.townsend@enron.com 67\n55098b622514972090624263 kam.keiser@enron.com 68\n55098b622514972090624264 kate.symes@enron.com 69\n55098b622514972090624265 kay.mann@enron.com 70\n55098b622514972090624266 keith.holst@enron.com 71\n55098b622514972090624267 kenneth.lay@enron.com 72\n55098b622514972090624268 kevin.hyatt@enron.com 73\n55098b622514972090624269 kevin.presto@enron.com 74\n55098b62251497209062426a kevin.ruscitti@enron.com 75\n55098b62251497209062426b kim.ward@enron.com 76\n55098b62251497209062426c kimberly.watson@enron.com 77\n55098b62251497209062426d larry.campbell@enron.com 78\n55098b62251497209062426e larry.may@enron.com 79\n55098b62251497209062426f lindy.donoho@enron.com 80\n55098b622514972090624270 lisa.gang@enron.com 81\n55098b622514972090624271 liz.taylor@enron.com 82\n55098b622514972090624272 louise.kitchen@enron.com 83\n55098b622514972090624273 lynn.blair@enron.com 84\n55098b622514972090624274 m..smith@enron.com 85\n55098b622514972090624275 marie.heard@enron.com 86\n55098b622514972090624276 mark.e.haedicke@enron.com 87\n55098b622514972090624277 mark.mcconnell@enron.com 88\n55098b622514972090624278 mark.taylor@enron.com 89\n55098b622514972090624279 mark.whitt@enron.com 90\n55098b62251497209062427a martin.cuilla@enron.com 91\n55098b62251497209062427b mary.fischer@enron.com 92\n55098b62251497209062427c matt.motley@enron.com 93\n55098b62251497209062427d matt.smith@enron.com 94\n55098b62251497209062427e matthew.lenhart@enron.com 95\n55098b62251497209062427f michele.lokay@enron.com 96\n55098b622514972090624280 michelle.cash@enron.com 97\n55098b622514972090624281 mike.carson@enron.com 98\n55098b622514972090624282 mike.grigsby@enron.com 99\n55098b622514972090624283 mike.maggi@enron.com 100\n55098b622514972090624284 mike.mcconnell@enron.com 101\n55098b622514972090624285 mike.swerzbin@enron.com 102\n55098b622514972090624286 monika.causholli@enron.com 103\n55098b622514972090624287 monique.sanchez@enron.com 104\n55098b622514972090624288 patrice.mims@enron.com 105\n55098b622514972090624289 paul.thomas@enron.com 106\n55098b62251497209062428a peter.keavey@enron.com 107\n55098b62251497209062428b phillip.love@enron.com 108\n55098b62251497209062428c phillip.platter@enron.com 109\n55098b62251497209062428d randall.gay@enron.com 110\n55098b62251497209062428e richard.ring@enron.com 111\n55098b62251497209062428f richard.sanders@enron.com 112\n55098b622514972090624290 richard.shapiro@enron.com 113\n55098b622514972090624291 rick.buy@enron.com 114\n55098b622514972090624292 rob.gay@enron.com 115\n55098b622514972090624293 robert.benson@enron.com 116\n55098b622514972090624294 rod.hayslett@enron.com 117\n55098b622514972090624295 ryan.slinger@enron.com 118\n55098b622514972090624296 sally.beck@enron.com 119\n55098b622514972090624297 sandra.brawner@enron.com 120\n55098b622514972090624298 sara.shackleton@enron.com 121\n55098b622514972090624299 scott.hendrickson@enron.com 122\n55098b62251497209062429a scott.neal@enron.com 123\n55098b62251497209062429b shelley.corman@enron.com 124\n55098b62251497209062429c stacy.dickson@enron.com 125\n55098b62251497209062429d stanley.horton@enron.com 126\n55098b62251497209062429e stephanie.panus@enron.com 127\n55098b62251497209062429f steven.kean@enron.com 128\n55098b6225149720906242a0 steven.south@enron.com 129\n55098b6225149720906242a1 susan.pereira@enron.com 130\n55098b6225149720906242a2 susan.scott@enron.com 131\n55098b6225149720906242a3 t..lucci@enron.com 132\n55098b6225149720906242a4 tana.jones@enron.com 133\n55098b6225149720906242a5 teb.lokey@enron.com 134\n55098b6225149720906242a6 theresa.staab@enron.com 135\n55098b6225149720906242a7 thomas.martin@enron.com 136\n55098b6225149720906242a8 tom.donohoe@enron.com 137\n55098b6225149720906242a9 tori.kuykendall@enron.com 138\n55098b6225149720906242aa tracy.geaccone@enron.com 139\n55098b6225149720906242ab vince.kaminski@enron.com 140\n55098b6225149720906242ac vladi.pimenov@enron.com 141\n55098b6225149720906242ad w..white@enron.com 142\n"
     ]
    }
   ],
   "source": [
    "import itertools\n",
    "from collections import defaultdict\n",
    "from itertools import islice, chain\n",
    "import re\n",
    "from datetime import datetime\n",
    "from datetime import timedelta\n",
    "def lines_per_n(f, n):\n",
    "    for line in f:\n",
    "        yield ''.join(chain([line], itertools.islice(f, n - 1)))\n",
    "\n",
    "node_data = defaultdict(lambda : ())  \n",
    "with open('vis.graph.nodeList.json') as f:\n",
    "    for chunk in lines_per_n(f, 5):\n",
    "        chunk = chunk.split(\"\\n\")\n",
    "        id_string = chunk[1].split(\":\")[1]\n",
    "        x = [x.start() for x in re.finditer('\\\"', id_string)]\n",
    "        id =  id_string[x[0]+1:x[1]]\n",
    "        \n",
    "        name_string = chunk[2].split(\":\")[1]\n",
    "        x = [x.start() for x in re.finditer('\\\"', name_string)]\n",
    "        name =  name_string[x[0]+1:x[1]]\n",
    "        \n",
    "        idx_string = chunk[3].split(\":\")[1]\n",
    "        x1 = idx_string.find('(')\n",
    "        x2 = idx_string.find(')')\n",
    "        idx =  idx_string[x1+1:x2]\n",
    "        \n",
    "        print(id, name, idx)\n",
    "        node_data[name] = (id,idx)\n",
    "        \n",
    "        "
   ]
  },
  {
   "cell_type": "code",
   "execution_count": 2,
   "metadata": {},
   "outputs": [
    {
     "output_type": "stream",
     "name": "stdout",
     "text": [
      "1998-11-13 12:07:00+00:00 2002-06-21 22:40:19+00:00\n# interactions 22784\n"
     ]
    }
   ],
   "source": [
    "\n",
    "import dateutil.parser\n",
    "\n",
    "def getDateTimeFromISO8601String(s):\n",
    "    d = dateutil.parser.parse(s)\n",
    "    return d\n",
    "\n",
    "links = []\n",
    "ts = []\n",
    "with open('vis.digraph.allEdges.json') as f:\n",
    "    for chunk in lines_per_n(f, 5):\n",
    "        chunk = chunk.split(\"\\n\")\n",
    "        \n",
    "        name_string = chunk[2].split(\":\")[1]\n",
    "        x = [x.start() for x in re.finditer('\\\"', name_string)]\n",
    "        from_id, to_id = name_string[x[0]+1:x[1]].split(\"_\")\n",
    "        \n",
    "        #gen = .split(\"_\")\n",
    "        #print (gen)\n",
    "        # print (from_id, to_id)\n",
    "        \n",
    "        time_string = chunk[3].split(\"ISODate\")[1]\n",
    "        x = [x.start() for x in re.finditer('\\\"', time_string)]\n",
    "        timestamp = getDateTimeFromISO8601String(time_string[x[0]+1:x[1]])\n",
    "        #timestamp= isodate.parse_datetime()\n",
    "        # print (timestamp)\n",
    "        ts.append(timestamp)\n",
    "        links.append((from_id, to_id, timestamp))\n",
    "        #print (node_data[from_id], node_data[to_id])\n",
    "print (min(ts), max(ts))\n",
    "print (\"# interactions\", len(links))\n",
    "links.sort(key =lambda x: x[2])\n",
    "\n"
   ]
  },
  {
   "cell_type": "code",
   "execution_count": 3,
   "metadata": {},
   "outputs": [
    {
     "output_type": "stream",
     "name": "stdout",
     "text": [
      "Start date 1999-06-01 12:07:00+00:00\n# nodes in slice 0 18\n# edges in slice 0 237\n# nodes in slice 1 23\n# edges in slice 1 182\n# nodes in slice 2 24\n# edges in slice 2 200\n# nodes in slice 3 50\n# edges in slice 3 538\n# nodes in slice 4 66\n# edges in slice 4 615\n# nodes in slice 5 79\n# edges in slice 5 810\n# nodes in slice 6 98\n# edges in slice 6 1197\n# nodes in slice 7 110\n# edges in slice 7 2053\n# nodes in slice 8 117\n# edges in slice 8 2577\n# nodes in slice 9 125\n# edges in slice 9 2412\n# nodes in slice 10 131\n# edges in slice 10 2417\n# nodes in slice 11 135\n# edges in slice 11 2693\n# nodes in slice 12 137\n# edges in slice 12 1384\n# nodes in slice 13 138\n# edges in slice 13 498\n# nodes in slice 14 141\n# edges in slice 14 1896\n# nodes in slice 15 143\n# edges in slice 15 1491\n"
     ]
    }
   ],
   "source": [
    "import networkx as nx\n",
    "import numpy as np\n",
    "SLICE_MONTHS = 2\n",
    "START_DATE = min(ts)+ timedelta(200)\n",
    "MAX_DATE = max(ts) - timedelta(200)\n",
    "\n",
    "slices_links = defaultdict(lambda : nx.MultiGraph())\n",
    "slices_features = defaultdict(lambda : {})\n",
    "\n",
    "print (\"Start date\", START_DATE)\n",
    "slice_id = 0\n",
    "# Split the set of links in order by slices to create the graphs.\n",
    "for (a, b, time) in links:\n",
    "    prev_slice_id = slice_id\n",
    "\n",
    "    datetime_object = time\n",
    "    if datetime_object > MAX_DATE:\n",
    "        months_diff = (MAX_DATE - START_DATE).days//30\n",
    "    else:\n",
    "        months_diff = (datetime_object - START_DATE).days//30\n",
    "    slice_id = months_diff // SLICE_MONTHS\n",
    "    slice_id = max(slice_id, 0)\n",
    "\n",
    "    if slice_id == 1+prev_slice_id and slice_id > 0:\n",
    "        slices_links[slice_id] = nx.MultiGraph()\n",
    "        slices_links[slice_id].add_nodes_from(slices_links[slice_id-1].nodes(data=True))\n",
    "        assert (len(slices_links[slice_id].edges()) ==0)\n",
    "        #assert len(slices_links[slice_id].nodes()) >0\n",
    "\n",
    "    if slice_id == 1+prev_slice_id and slice_id ==0:\n",
    "        slices_links[slice_id] = nx.MultiGraph()\n",
    "\n",
    "    if a not in slices_links[slice_id]:\n",
    "        slices_links[slice_id].add_node(a)\n",
    "    if b not in slices_links[slice_id]:\n",
    "        slices_links[slice_id].add_node(b)\n",
    "    if a != b:\n",
    "        slices_links[slice_id].add_edge(a,b, date=datetime_object)\n",
    "\n",
    "for slice_id in slices_links:\n",
    "    print (\"# nodes in slice\", slice_id, len(slices_links[slice_id].nodes()))\n",
    "    print (\"# edges in slice\", slice_id, len(slices_links[slice_id].edges()))\n",
    "    temp = np.identity(len(slices_links[max(slices_links.keys())].nodes()))\n",
    "\n",
    "    slices_features[slice_id] = {}\n",
    "    for idx, node in enumerate(slices_links[slice_id].nodes()):\n",
    "        slices_features[slice_id][node] = temp[idx]\n",
    "\n",
    "        \n",
    "# TODO : remap and output. "
   ]
  },
  {
   "cell_type": "code",
   "execution_count": 4,
   "metadata": {
    "collapsed": true
   },
   "outputs": [],
   "source": [
    "from scipy.sparse import csr_matrix\n",
    "\n",
    "def remap(slices_graph, slices_features):\n",
    "    all_nodes = []\n",
    "    for slice_id in slices_graph:\n",
    "        assert len(slices_graph[slice_id].nodes()) == len(slices_features[slice_id])\n",
    "        all_nodes.extend(slices_graph[slice_id].nodes())\n",
    "    all_nodes = list(set(all_nodes))\n",
    "    print (\"Total # nodes\", len(all_nodes), \"max idx\", max(all_nodes))\n",
    "    ctr = 0\n",
    "    node_idx = {}\n",
    "    idx_node = []\n",
    "    for slice_id in slices_graph:\n",
    "        for node in slices_graph[slice_id].nodes():\n",
    "            if node not in node_idx:\n",
    "                node_idx[node] = ctr\n",
    "                idx_node.append(node)\n",
    "                ctr += 1\n",
    "    slices_graph_remap = []\n",
    "    slices_features_remap = []\n",
    "    for slice_id in slices_graph:\n",
    "        G = nx.MultiGraph()\n",
    "        for x in slices_graph[slice_id].nodes():\n",
    "            G.add_node(node_idx[x])\n",
    "        for x in slices_graph[slice_id].edges(data=True):\n",
    "            if node_idx[x[0]] != node_idx[x[1]]:\n",
    "                G.add_edge(node_idx[x[0]], node_idx[x[1]], weight=1, date=x[2]['date'])\n",
    "        assert (len(G.nodes()) == len(slices_graph[slice_id].nodes()))\n",
    "        assert (len(G.edges()) == len(slices_graph[slice_id].edges()))\n",
    "        slices_graph_remap.append(G)\n",
    "    \n",
    "    for slice_id in slices_features:\n",
    "        features_remap = []\n",
    "        for x in slices_graph_remap[slice_id].nodes():\n",
    "            features_remap.append(slices_features[slice_id][idx_node[x]])\n",
    "            #features_remap.append(np.array(slices_features[slice_id][idx_node[x]]).flatten())\n",
    "        features_remap = csr_matrix(np.squeeze(np.array(features_remap)))\n",
    "        slices_features_remap.append(features_remap)\n",
    "    return (slices_graph_remap, slices_features_remap)"
   ]
  },
  {
   "cell_type": "code",
   "execution_count": 5,
   "metadata": {},
   "outputs": [
    {
     "output_type": "stream",
     "name": "stdout",
     "text": [
      "Total # nodes 143 max idx w..white@enron.com\n"
     ]
    }
   ],
   "source": [
    "slices_links_remap, slices_features_remap = remap(slices_links, slices_features)\n"
   ]
  },
  {
   "cell_type": "code",
   "execution_count": null,
   "metadata": {},
   "outputs": [],
   "source": [
    "G = slices_links_remap[0]"
   ]
  },
  {
   "cell_type": "code",
   "execution_count": null,
   "metadata": {},
   "outputs": [],
   "source": [
    "G.edges()"
   ]
  },
  {
   "cell_type": "code",
   "execution_count": null,
   "metadata": {},
   "outputs": [],
   "source": [
    "G_new = nx.Graph()"
   ]
  },
  {
   "cell_type": "code",
   "execution_count": null,
   "metadata": {},
   "outputs": [],
   "source": [
    "G_new.add_edges_from(G.edges(data=True))"
   ]
  },
  {
   "cell_type": "code",
   "execution_count": null,
   "metadata": {},
   "outputs": [],
   "source": [
    "G_new.edges(data=True)"
   ]
  },
  {
   "cell_type": "code",
   "execution_count": null,
   "metadata": {},
   "outputs": [],
   "source": [
    "G_new[0][1]['weight'] = 1"
   ]
  },
  {
   "cell_type": "code",
   "execution_count": null,
   "metadata": {},
   "outputs": [],
   "source": [
    "G_new[0][1]['weight']"
   ]
  },
  {
   "cell_type": "code",
   "execution_count": 6,
   "metadata": {
    "collapsed": true
   },
   "outputs": [],
   "source": [
    "np.savez('../Enron_new/graphs.npz', graph=slices_links_remap)\n",
    "np.savez('../Enron_newfeatures.npz', feats=slices_features_remap)"
   ]
  },
  {
   "cell_type": "code",
   "execution_count": null,
   "metadata": {},
   "outputs": [],
   "source": []
  }
 ],
 "metadata": {
  "kernelspec": {
   "display_name": "Python 3",
   "language": "python",
   "name": "python3"
  }
 },
 "nbformat": 4,
 "nbformat_minor": 2
}